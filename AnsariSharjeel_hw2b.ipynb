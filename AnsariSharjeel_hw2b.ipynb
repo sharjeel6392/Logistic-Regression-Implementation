{
 "cells": [
  {
   "cell_type": "markdown",
   "metadata": {},
   "source": [
    "# JUPYTER NOTEBOOK FOR HOMEWORK 2 - question 2\n",
    "Using logistic regression classifier to identify faces with happy or sad expressions"
   ]
  },
  {
   "cell_type": "code",
   "execution_count": 1,
   "metadata": {},
   "outputs": [],
   "source": [
    "import numpy as np\n",
    "import sys\n",
    "import matplotlib.pyplot as plt\n",
    "from sklearn.utils import shuffle\n",
    "from sklearn.metrics import mean_squared_error\n",
    "from helper import y2indicator, getBinaryfer13Data, sigmoid, sigmoid_cost, error_rate, init_weight_and_bias, \\\n",
    "                    init_weight_and_bias_NN, ReLU, softmax, cost\n",
    "\n",
    "np.random.seed(42)"
   ]
  },
  {
   "cell_type": "markdown",
   "metadata": {},
   "source": [
    "# The Logistic regressor class"
   ]
  },
  {
   "cell_type": "code",
   "execution_count": 2,
   "metadata": {},
   "outputs": [],
   "source": [
    "\n",
    "#Implement a logistic regression class to read in vectorized 48 x 48 images;\n",
    "#  so that the dimension of the input is 2304.\n",
    "#  The class includes function train (weight learning), forward (forward activations), \n",
    "#  predict (using current weight to make predictions) and score (or accuracy based on targets and predictions)\n",
    "class LRClass(object):\n",
    "    def __init__(self):\n",
    "        self.W = None\n",
    "        self.regW = None\n",
    "        self.b = 0\n",
    "        self.lam = 0.3\n",
    "\n",
    "    def train(self, X, Y, step_size=10e-7, epochs=1000):\n",
    "        # Validation data set extracted from the training data\n",
    "        X, Y = shuffle(X, Y)\n",
    "        Xvalid, Yvalid = X[-1000:], Y[-1000:]\n",
    "        X, Y = X[:-1000], Y[:-1000]\n",
    "        N, D = X.shape\n",
    "        \n",
    "        #(i) Initialize the weights W to small random numbers (variance - zero); \n",
    "        #       also initialize the bias b to zero\n",
    "        '*** Enter your contde below'\n",
    "        self.W = np.random.randn(D) / np.sqrt(D)\n",
    "        self.regW = np.random.randn(D)/np.sqrt(D)  # For regularization part\n",
    "        self.lam = 0.05\n",
    "        self.b = 0.0\n",
    "        #For the given number of epochs selected, learn the weights \n",
    "        train_costs = []\n",
    "        valid_costs = []\n",
    "        best_validation_error = 1\n",
    "        \n",
    "        #(ii) Create a loop over the number of epochs specified. \n",
    "        for i in range(epochs):\n",
    "                completed = str(((i+1)*100)//epochs) + \"% completed\"\n",
    "                print('{}\\r'.format(completed), end=\"\")\n",
    "                #(iii) Call the forward funcion to calculate P(Y|X)\n",
    "                '*** Enter your code below'\n",
    "                pY = self.forward(X)\n",
    "                pYreg = self.forward_reg(X) # Regularizer\n",
    "                pY_valid = self.forward(Xvalid)\n",
    "                #(iv) Next, learn the weights via back-propagation, by performing \n",
    "                #   gradient descent using equations (1) and (2) from the HW text\n",
    "                '*** Enter your code below'\n",
    "                self.W = self.W - (step_size * np.dot( X.T, (pY-Y)))\n",
    "                self.b = self.b - (step_size * np.sum(pY-Y))\n",
    "\n",
    "                # Weight update with regularization (lambda = 0.5)\n",
    "                jPenalty = self.lam * self.regW                 \n",
    "                self.regW = self.regW - (step_size * (np.dot(X.T,(pYreg-Y)) + jPenalty))\n",
    "                \n",
    "                #(v) Using both the training and validation data, compute P(Y|X) using the \n",
    "                #       forward algo. Compute the sigmoid costs and append to array costs\n",
    "                #       Check to set best_validation_error \n",
    "                '*** Enter your code below'\n",
    "                \n",
    "                \n",
    "                train = sigmoid_cost(Y, pY)/len(Y)\n",
    "                train_costs.append(train)\n",
    "                valid = sigmoid_cost(Yvalid, pY_valid)/len(Yvalid)\n",
    "                valid_costs.append(valid)\n",
    "                if valid < best_validation_error:\n",
    "                    best_validation_error = valid\n",
    "\n",
    "        #(vi) Print your best validation error here\n",
    "        plt.plot(range(epochs), train_costs)\n",
    "        plt.plot(range(epochs), valid_costs)\n",
    "        plt.legend([\"Training cost\",\"Validation Costs\"])\n",
    "        plt.show()\n",
    "        print(\"best_validation_error:\", best_validation_error)\n",
    "        \n",
    "        #(vii) Display the graph of the validation cost in your final report\n",
    "    \n",
    "    # Implement the forward algorithm\n",
    "    def forward(self, X):\n",
    "        '*** Enter your code below'\n",
    "        linearModel = np.dot(X, self.W) + self.b\n",
    "        ret = sigmoid(linearModel)\n",
    "        return ret\n",
    "    \n",
    "    # Implement the prediction algorithm, calling forward\n",
    "    def predict(self, X):\n",
    "        '*** Enter your code below'\n",
    "        yPred = self.forward(X)\n",
    "        yPredClasses = [1 if i > 0.5 else 0 for i in yPred]\n",
    "        return yPredClasses\n",
    "        \n",
    "    # Implement a method to compute accuracy or classification rate\n",
    "    def score(self, X, Y):\n",
    "        length = len(Y)\n",
    "        count = 0\n",
    "        yPredClasses = self.predict(X)\n",
    "        for i in range(length):\n",
    "            if yPredClasses[i] == Y[i]:\n",
    "                count += 1\n",
    "                \n",
    "        return count/length\n",
    "    \n",
    "    def forward_reg(self, X):\n",
    "        linearModel = np.dot(X, self.regW) + self.b\n",
    "        ret = sigmoid(linearModel)\n",
    "        return ret\n",
    "    \n",
    "    def predict_reg(self, X):\n",
    "        yPred = self.forward_reg(X)\n",
    "        yPredClasses = [1 if i > 0.5 else 0 for i in yPred]\n",
    "        return yPredClasses\n",
    "    \n",
    "    def score_reg(self, X, Y):\n",
    "        length = len(Y)\n",
    "        count = 0\n",
    "        yPredClasses = self.predict_reg(X)\n",
    "        for i in range(length):\n",
    "            if yPredClasses[i] == Y[i]:\n",
    "                count += 1\n",
    "                \n",
    "        return count/length"
   ]
  },
  {
   "cell_type": "code",
   "execution_count": 3,
   "metadata": {},
   "outputs": [
    {
     "name": "stdout",
     "output_type": "stream",
     "text": [
      "100% completed\r"
     ]
    },
    {
     "data": {
      "image/png": "[encoded data removed]",
      "text/plain": [
       "<Figure size 432x288 with 1 Axes>"
      ]
     },
     "metadata": {
      "needs_background": "light"
     },
     "output_type": "display_data"
    },
    {
     "name": "stdout",
     "output_type": "stream",
     "text": [
      "best_validation_error: 0.6040457268046957\n",
      "Accuracy of test set is:  70.39999999999999\n"
     ]
    }
   ],
   "source": [
    "#Call your logistic regression class and train your object\n",
    "X, Y = getBinaryfer13Data('fer3and4train.csv') \n",
    "lrObj = LRClass()\n",
    "lrObj.train(X, Y, epochs = 1000)\n",
    "\n",
    "#(viii) After successfully training, apply the learned model on the test dataset\n",
    "testX, testY = getBinaryfer13Data('fer3and4test.csv')\n",
    "print(\"Accuracy of test set is: \", lrObj.score(testX, testY)*100)\n"
   ]
  },
  {
   "cell_type": "code",
   "execution_count": 4,
   "metadata": {},
   "outputs": [
    {
     "name": "stdout",
     "output_type": "stream",
     "text": [
      "Accuracy after regularizing:  0.707\n"
     ]
    }
   ],
   "source": [
    "print(\"Accuracy after regularizing: \", lrObj.score_reg(testX, testY))"
   ]
  },
  {
   "cell_type": "code",
   "execution_count": null,
   "metadata": {},
   "outputs": [],
   "source": []
  }
 ],
 "metadata": {
  "kernelspec": {
   "display_name": "Python 3",
   "language": "python",
   "name": "python3"
  },
  "language_info": {
   "codemirror_mode": {
    "name": "ipython",
    "version": 3
   },
   "file_extension": ".py",
   "mimetype": "text/x-python",
   "name": "python",
   "nbconvert_exporter": "python",
   "pygments_lexer": "ipython3",
   "version": "3.8.5"
  }
 },
 "nbformat": 4,
 "nbformat_minor": 2
}
